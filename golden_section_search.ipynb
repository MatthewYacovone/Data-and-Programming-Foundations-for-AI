{
 "cells": [
  {
   "cell_type": "code",
   "execution_count": 51,
   "id": "75eea0eb-babd-456a-a39f-1d046c6652f3",
   "metadata": {},
   "outputs": [
    {
     "name": "stdout",
     "output_type": "stream",
     "text": [
      "[0.6524758424985279, 0.9442719099991589]\n"
     ]
    }
   ],
   "source": [
    "\"\"\"\n",
    "The Golden Section Search allows us to determine the minimizer of an objective function f : R -> R over a closed interval.\n",
    "We choose the intermediate points in such a way that the reduction in the range is symmetric.\n",
    "\"\"\"\n",
    "import numpy as np\n",
    "import pandas as pd\n",
    "import sklearn\n",
    "import tensorflow as tf\n",
    "import matplotlib.pyplot as plt\n",
    "\n",
    "\n",
    "# Example 7.1 Suppose that we wish to use the golden section search method to find the value of x that minimizes:\n",
    "# f(x) = (x^4 - 14*x^3 + 60*x^2 - 70*x) from [0,2] within a range of 0.3\n",
    "rho = (3 - np.sqrt(5))/2\n",
    "interval = [0, 2]\n",
    "error = 0.3\n",
    "            \n",
    "def objective_funct(left, right):\n",
    "    compare = [left, right]\n",
    "    x = []\n",
    "    for i in compare:\n",
    "        x.append(i**4 - 14*(i**3) + 60*(i**2) - 70*i)\n",
    "    return(x)\n",
    "            \n",
    "def find_how_many_iterations_necessary(interval, error, rho):\n",
    "    num_of_iter = 0\n",
    "    while True:\n",
    "        if ((1-rho)**num_of_iter) > (error/2):\n",
    "            num_of_iter += 1\n",
    "        else:\n",
    "            break\n",
    "    return (num_of_iter)\n",
    "\n",
    "def golden_section_search(num_of_iter, interval, rho):\n",
    "# In this function, we evaluate f at two intermediate points, a1 and b1, where\n",
    "# rho = (3 - np.sqrt(5))/2 to reduce the uncertainty interval within 0.3\n",
    "    \n",
    "    for i in range(num_of_iter):\n",
    "        a1 = interval[0] + rho*(interval[1]-interval[0])\n",
    "        b1 = interval[0] + (1-rho)*(interval[1]-interval[0])\n",
    "        x = objective_funct(a1, b1)\n",
    "        if x[0] < x[1]: # f(a1) < f(b1)\n",
    "            interval[1] = b1\n",
    "        elif x[1] < x[0]:\n",
    "            interval[0] = a1\n",
    "        else:\n",
    "            break\n",
    "    return interval\n",
    "            \n",
    "            \n",
    "            \n",
    "    \n",
    "num_of_iter = find_how_many_iterations_necessary(interval, error, rho)\n",
    "minimizer = golden_section_search(num_of_iter, interval, rho)\n",
    "print(minimizer)"
   ]
  },
  {
   "cell_type": "code",
   "execution_count": null,
   "id": "f3e64614-d6ad-4f7f-b553-eaf594e0e087",
   "metadata": {},
   "outputs": [],
   "source": []
  },
  {
   "cell_type": "code",
   "execution_count": null,
   "id": "c62049ba-3eb4-41a5-bcc8-97af7ae8401b",
   "metadata": {},
   "outputs": [],
   "source": []
  }
 ],
 "metadata": {
  "kernelspec": {
   "display_name": "Python 3 (ipykernel)",
   "language": "python",
   "name": "python3"
  },
  "language_info": {
   "codemirror_mode": {
    "name": "ipython",
    "version": 3
   },
   "file_extension": ".py",
   "mimetype": "text/x-python",
   "name": "python",
   "nbconvert_exporter": "python",
   "pygments_lexer": "ipython3",
   "version": "3.10.14"
  }
 },
 "nbformat": 4,
 "nbformat_minor": 5
}
