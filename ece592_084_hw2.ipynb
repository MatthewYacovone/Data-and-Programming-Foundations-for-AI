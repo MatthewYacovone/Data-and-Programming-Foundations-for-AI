{
 "cells": [
  {
   "cell_type": "code",
   "execution_count": 6,
   "id": "f8a49c8c-7c96-43c9-8021-13e88b689034",
   "metadata": {},
   "outputs": [
    {
     "name": "stdout",
     "output_type": "stream",
     "text": [
      "<class 'sympy.core.add.Add'>\n"
     ]
    }
   ],
   "source": [
    "\"\"\"\n",
    "Newton's Method allows us to minimize a function, f, of a single variable, x. \n",
    "\"\"\"\n",
    "import numpy as np\n",
    "import pandas as pd\n",
    "import sklearn\n",
    "import tensorflow as tf\n",
    "import matplotlib.pyplot as plt\n",
    "import sympy\n",
    "from sympy import symbols, diff\n",
    "\n",
    "x, y = symbols('x y', real=True)\n",
    "f = (x - y)**4 + (12*x*y) - x + y - 3\n",
    "partial_x = diff(f,x)\n",
    "partial_y = diff(f,y)\n",
    "\n"
   ]
  },
  {
   "cell_type": "code",
   "execution_count": null,
   "id": "9971ae19-b143-40f6-a226-d106165ab718",
   "metadata": {},
   "outputs": [],
   "source": []
  }
 ],
 "metadata": {
  "kernelspec": {
   "display_name": "Python 3 (ipykernel)",
   "language": "python",
   "name": "python3"
  },
  "language_info": {
   "codemirror_mode": {
    "name": "ipython",
    "version": 3
   },
   "file_extension": ".py",
   "mimetype": "text/x-python",
   "name": "python",
   "nbconvert_exporter": "python",
   "pygments_lexer": "ipython3",
   "version": "3.10.14"
  }
 },
 "nbformat": 4,
 "nbformat_minor": 5
}
